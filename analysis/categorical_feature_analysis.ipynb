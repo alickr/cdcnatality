{
 "cells": [
  {
   "cell_type": "code",
   "execution_count": 10,
   "metadata": {},
   "outputs": [],
   "source": [
    "import pandas as pd\n",
    "import numpy as np\n",
    "import random as rnd\n",
    "\n",
    "import seaborn as sns\n",
    "import matplotlib.pyplot as plt\n",
    "%matplotlib inline"
   ]
  },
  {
   "cell_type": "code",
   "execution_count": 13,
   "metadata": {},
   "outputs": [
    {
     "data": {
      "text/html": [
       "<div>\n",
       "<style scoped>\n",
       "    .dataframe tbody tr th:only-of-type {\n",
       "        vertical-align: middle;\n",
       "    }\n",
       "\n",
       "    .dataframe tbody tr th {\n",
       "        vertical-align: top;\n",
       "    }\n",
       "\n",
       "    .dataframe thead th {\n",
       "        text-align: right;\n",
       "    }\n",
       "</style>\n",
       "<table border=\"1\" class=\"dataframe\">\n",
       "  <thead>\n",
       "    <tr style=\"text-align: right;\">\n",
       "      <th></th>\n",
       "      <th>DOB_YY</th>\n",
       "      <th>MM_MTR</th>\n",
       "      <th>MM_PLAC</th>\n",
       "      <th>MM_RUPT</th>\n",
       "      <th>MM_UHYST</th>\n",
       "      <th>MM_AICU</th>\n",
       "      <th>NO_MMORB</th>\n",
       "      <th>AB_NICU</th>\n",
       "    </tr>\n",
       "  </thead>\n",
       "  <tbody>\n",
       "    <tr>\n",
       "      <th>1601531</th>\n",
       "      <td>2018</td>\n",
       "      <td>N</td>\n",
       "      <td>N</td>\n",
       "      <td>N</td>\n",
       "      <td>N</td>\n",
       "      <td>N</td>\n",
       "      <td>1.0</td>\n",
       "      <td>N</td>\n",
       "    </tr>\n",
       "    <tr>\n",
       "      <th>1601532</th>\n",
       "      <td>2018</td>\n",
       "      <td>N</td>\n",
       "      <td>N</td>\n",
       "      <td>N</td>\n",
       "      <td>N</td>\n",
       "      <td>N</td>\n",
       "      <td>1.0</td>\n",
       "      <td>N</td>\n",
       "    </tr>\n",
       "    <tr>\n",
       "      <th>1601533</th>\n",
       "      <td>2018</td>\n",
       "      <td>N</td>\n",
       "      <td>N</td>\n",
       "      <td>N</td>\n",
       "      <td>N</td>\n",
       "      <td>N</td>\n",
       "      <td>1.0</td>\n",
       "      <td>N</td>\n",
       "    </tr>\n",
       "    <tr>\n",
       "      <th>1601534</th>\n",
       "      <td>2018</td>\n",
       "      <td>N</td>\n",
       "      <td>N</td>\n",
       "      <td>N</td>\n",
       "      <td>N</td>\n",
       "      <td>N</td>\n",
       "      <td>1.0</td>\n",
       "      <td>N</td>\n",
       "    </tr>\n",
       "    <tr>\n",
       "      <th>1601535</th>\n",
       "      <td>2018</td>\n",
       "      <td>N</td>\n",
       "      <td>N</td>\n",
       "      <td>N</td>\n",
       "      <td>N</td>\n",
       "      <td>N</td>\n",
       "      <td>1.0</td>\n",
       "      <td>N</td>\n",
       "    </tr>\n",
       "  </tbody>\n",
       "</table>\n",
       "</div>"
      ],
      "text/plain": [
       "         DOB_YY MM_MTR MM_PLAC MM_RUPT MM_UHYST MM_AICU  NO_MMORB AB_NICU\n",
       "1601531    2018      N       N       N        N       N       1.0       N\n",
       "1601532    2018      N       N       N        N       N       1.0       N\n",
       "1601533    2018      N       N       N        N       N       1.0       N\n",
       "1601534    2018      N       N       N        N       N       1.0       N\n",
       "1601535    2018      N       N       N        N       N       1.0       N"
      ]
     },
     "execution_count": 13,
     "metadata": {},
     "output_type": "execute_result"
    }
   ],
   "source": [
    "train_df = pd.read_csv(\"natality_january.csv\", sep='\\t')\n",
    "train_df.tail()"
   ]
  },
  {
   "cell_type": "code",
   "execution_count": 19,
   "metadata": {},
   "outputs": [
    {
     "data": {
      "text/plain": [
       "array([ 1.,  0.,  9., nan])"
      ]
     },
     "execution_count": 19,
     "metadata": {},
     "output_type": "execute_result"
    }
   ],
   "source": [
    "train_df['NO_MMORB'].unique()"
   ]
  },
  {
   "cell_type": "code",
   "execution_count": 21,
   "metadata": {},
   "outputs": [
    {
     "data": {
      "text/plain": [
       "(1601536, 8)"
      ]
     },
     "execution_count": 21,
     "metadata": {},
     "output_type": "execute_result"
    }
   ],
   "source": [
    "train_df.shape"
   ]
  },
  {
   "cell_type": "code",
   "execution_count": 22,
   "metadata": {},
   "outputs": [],
   "source": [
    "df = train_df.dropna()"
   ]
  },
  {
   "cell_type": "code",
   "execution_count": 23,
   "metadata": {},
   "outputs": [
    {
     "data": {
      "text/plain": [
       "(1579336, 8)"
      ]
     },
     "execution_count": 23,
     "metadata": {},
     "output_type": "execute_result"
    }
   ],
   "source": [
    "df.shape"
   ]
  },
  {
   "cell_type": "code",
   "execution_count": 28,
   "metadata": {},
   "outputs": [
    {
     "data": {
      "text/plain": [
       "array(['N', 'Y', 'U'], dtype=object)"
      ]
     },
     "execution_count": 28,
     "metadata": {},
     "output_type": "execute_result"
    }
   ],
   "source": [
    "df['AB_NICU'].unique()"
   ]
  },
  {
   "cell_type": "code",
   "execution_count": 29,
   "metadata": {},
   "outputs": [],
   "source": [
    "def parseToInt(val):\n",
    "    if(val == 'X'):\n",
    "        return 0\n",
    "    elif(val == 'U'):\n",
    "        return 1\n",
    "    elif(val == 'N'):\n",
    "        return 2\n",
    "    else:\n",
    "        return 3"
   ]
  },
  {
   "cell_type": "code",
   "execution_count": 30,
   "metadata": {},
   "outputs": [
    {
     "name": "stderr",
     "output_type": "stream",
     "text": [
      "/Users/babu/anaconda3/lib/python3.7/site-packages/ipykernel_launcher.py:1: SettingWithCopyWarning: \n",
      "A value is trying to be set on a copy of a slice from a DataFrame.\n",
      "Try using .loc[row_indexer,col_indexer] = value instead\n",
      "\n",
      "See the caveats in the documentation: http://pandas.pydata.org/pandas-docs/stable/indexing.html#indexing-view-versus-copy\n",
      "  \"\"\"Entry point for launching an IPython kernel.\n",
      "/Users/babu/anaconda3/lib/python3.7/site-packages/ipykernel_launcher.py:2: SettingWithCopyWarning: \n",
      "A value is trying to be set on a copy of a slice from a DataFrame.\n",
      "Try using .loc[row_indexer,col_indexer] = value instead\n",
      "\n",
      "See the caveats in the documentation: http://pandas.pydata.org/pandas-docs/stable/indexing.html#indexing-view-versus-copy\n",
      "  \n",
      "/Users/babu/anaconda3/lib/python3.7/site-packages/ipykernel_launcher.py:3: SettingWithCopyWarning: \n",
      "A value is trying to be set on a copy of a slice from a DataFrame.\n",
      "Try using .loc[row_indexer,col_indexer] = value instead\n",
      "\n",
      "See the caveats in the documentation: http://pandas.pydata.org/pandas-docs/stable/indexing.html#indexing-view-versus-copy\n",
      "  This is separate from the ipykernel package so we can avoid doing imports until\n",
      "/Users/babu/anaconda3/lib/python3.7/site-packages/ipykernel_launcher.py:4: SettingWithCopyWarning: \n",
      "A value is trying to be set on a copy of a slice from a DataFrame.\n",
      "Try using .loc[row_indexer,col_indexer] = value instead\n",
      "\n",
      "See the caveats in the documentation: http://pandas.pydata.org/pandas-docs/stable/indexing.html#indexing-view-versus-copy\n",
      "  after removing the cwd from sys.path.\n",
      "/Users/babu/anaconda3/lib/python3.7/site-packages/ipykernel_launcher.py:5: SettingWithCopyWarning: \n",
      "A value is trying to be set on a copy of a slice from a DataFrame.\n",
      "Try using .loc[row_indexer,col_indexer] = value instead\n",
      "\n",
      "See the caveats in the documentation: http://pandas.pydata.org/pandas-docs/stable/indexing.html#indexing-view-versus-copy\n",
      "  \"\"\"\n",
      "/Users/babu/anaconda3/lib/python3.7/site-packages/ipykernel_launcher.py:6: SettingWithCopyWarning: \n",
      "A value is trying to be set on a copy of a slice from a DataFrame.\n",
      "Try using .loc[row_indexer,col_indexer] = value instead\n",
      "\n",
      "See the caveats in the documentation: http://pandas.pydata.org/pandas-docs/stable/indexing.html#indexing-view-versus-copy\n",
      "  \n"
     ]
    }
   ],
   "source": [
    "df['MM_MTR'] = pd.DataFrame(list(map(parseToInt, df['MM_MTR'])))\n",
    "df['MM_PLAC'] = pd.DataFrame(list(map(parseToInt, df['MM_PLAC'])))\n",
    "df['MM_RUPT'] = pd.DataFrame(list(map(parseToInt, df['MM_RUPT'])))\n",
    "df['MM_UHYST'] = pd.DataFrame(list(map(parseToInt, df['MM_UHYST'])))\n",
    "df['MM_AICU'] = pd.DataFrame(list(map(parseToInt, df['MM_AICU'])))\n",
    "df['AB_NICU'] = pd.DataFrame(list(map(parseToInt, df['AB_NICU'])))"
   ]
  },
  {
   "cell_type": "code",
   "execution_count": 31,
   "metadata": {},
   "outputs": [
    {
     "data": {
      "text/html": [
       "<div>\n",
       "<style scoped>\n",
       "    .dataframe tbody tr th:only-of-type {\n",
       "        vertical-align: middle;\n",
       "    }\n",
       "\n",
       "    .dataframe tbody tr th {\n",
       "        vertical-align: top;\n",
       "    }\n",
       "\n",
       "    .dataframe thead th {\n",
       "        text-align: right;\n",
       "    }\n",
       "</style>\n",
       "<table border=\"1\" class=\"dataframe\">\n",
       "  <thead>\n",
       "    <tr style=\"text-align: right;\">\n",
       "      <th></th>\n",
       "      <th>DOB_YY</th>\n",
       "      <th>MM_MTR</th>\n",
       "      <th>MM_PLAC</th>\n",
       "      <th>MM_RUPT</th>\n",
       "      <th>MM_UHYST</th>\n",
       "      <th>MM_AICU</th>\n",
       "      <th>NO_MMORB</th>\n",
       "      <th>AB_NICU</th>\n",
       "    </tr>\n",
       "  </thead>\n",
       "  <tbody>\n",
       "    <tr>\n",
       "      <th>0</th>\n",
       "      <td>2014</td>\n",
       "      <td>2.0</td>\n",
       "      <td>2.0</td>\n",
       "      <td>2.0</td>\n",
       "      <td>2.0</td>\n",
       "      <td>2.0</td>\n",
       "      <td>1.0</td>\n",
       "      <td>2.0</td>\n",
       "    </tr>\n",
       "    <tr>\n",
       "      <th>1</th>\n",
       "      <td>2014</td>\n",
       "      <td>2.0</td>\n",
       "      <td>2.0</td>\n",
       "      <td>2.0</td>\n",
       "      <td>2.0</td>\n",
       "      <td>2.0</td>\n",
       "      <td>1.0</td>\n",
       "      <td>2.0</td>\n",
       "    </tr>\n",
       "    <tr>\n",
       "      <th>2</th>\n",
       "      <td>2014</td>\n",
       "      <td>2.0</td>\n",
       "      <td>2.0</td>\n",
       "      <td>2.0</td>\n",
       "      <td>2.0</td>\n",
       "      <td>2.0</td>\n",
       "      <td>1.0</td>\n",
       "      <td>2.0</td>\n",
       "    </tr>\n",
       "    <tr>\n",
       "      <th>3</th>\n",
       "      <td>2014</td>\n",
       "      <td>2.0</td>\n",
       "      <td>2.0</td>\n",
       "      <td>2.0</td>\n",
       "      <td>2.0</td>\n",
       "      <td>2.0</td>\n",
       "      <td>1.0</td>\n",
       "      <td>2.0</td>\n",
       "    </tr>\n",
       "    <tr>\n",
       "      <th>4</th>\n",
       "      <td>2014</td>\n",
       "      <td>2.0</td>\n",
       "      <td>2.0</td>\n",
       "      <td>2.0</td>\n",
       "      <td>2.0</td>\n",
       "      <td>2.0</td>\n",
       "      <td>1.0</td>\n",
       "      <td>2.0</td>\n",
       "    </tr>\n",
       "  </tbody>\n",
       "</table>\n",
       "</div>"
      ],
      "text/plain": [
       "   DOB_YY  MM_MTR  MM_PLAC  MM_RUPT  MM_UHYST  MM_AICU  NO_MMORB  AB_NICU\n",
       "0    2014     2.0      2.0      2.0       2.0      2.0       1.0      2.0\n",
       "1    2014     2.0      2.0      2.0       2.0      2.0       1.0      2.0\n",
       "2    2014     2.0      2.0      2.0       2.0      2.0       1.0      2.0\n",
       "3    2014     2.0      2.0      2.0       2.0      2.0       1.0      2.0\n",
       "4    2014     2.0      2.0      2.0       2.0      2.0       1.0      2.0"
      ]
     },
     "execution_count": 31,
     "metadata": {},
     "output_type": "execute_result"
    }
   ],
   "source": [
    "df.head()"
   ]
  },
  {
   "cell_type": "code",
   "execution_count": 32,
   "metadata": {},
   "outputs": [
    {
     "data": {
      "text/html": [
       "<div>\n",
       "<style scoped>\n",
       "    .dataframe tbody tr th:only-of-type {\n",
       "        vertical-align: middle;\n",
       "    }\n",
       "\n",
       "    .dataframe tbody tr th {\n",
       "        vertical-align: top;\n",
       "    }\n",
       "\n",
       "    .dataframe thead th {\n",
       "        text-align: right;\n",
       "    }\n",
       "</style>\n",
       "<table border=\"1\" class=\"dataframe\">\n",
       "  <thead>\n",
       "    <tr style=\"text-align: right;\">\n",
       "      <th></th>\n",
       "      <th>DOB_YY</th>\n",
       "      <th>MM_MTR</th>\n",
       "      <th>MM_PLAC</th>\n",
       "      <th>MM_RUPT</th>\n",
       "      <th>MM_UHYST</th>\n",
       "      <th>MM_AICU</th>\n",
       "      <th>NO_MMORB</th>\n",
       "      <th>AB_NICU</th>\n",
       "    </tr>\n",
       "  </thead>\n",
       "  <tbody>\n",
       "    <tr>\n",
       "      <th>DOB_YY</th>\n",
       "      <td>1.000000</td>\n",
       "      <td>0.011940</td>\n",
       "      <td>0.002435</td>\n",
       "      <td>0.009357</td>\n",
       "      <td>0.009198</td>\n",
       "      <td>0.006223</td>\n",
       "      <td>-0.012052</td>\n",
       "      <td>0.015789</td>\n",
       "    </tr>\n",
       "    <tr>\n",
       "      <th>MM_MTR</th>\n",
       "      <td>0.011940</td>\n",
       "      <td>1.000000</td>\n",
       "      <td>0.240428</td>\n",
       "      <td>0.532463</td>\n",
       "      <td>0.575229</td>\n",
       "      <td>0.506880</td>\n",
       "      <td>-0.011218</td>\n",
       "      <td>0.060041</td>\n",
       "    </tr>\n",
       "    <tr>\n",
       "      <th>MM_PLAC</th>\n",
       "      <td>0.002435</td>\n",
       "      <td>0.240428</td>\n",
       "      <td>1.000000</td>\n",
       "      <td>0.370507</td>\n",
       "      <td>0.365361</td>\n",
       "      <td>0.292814</td>\n",
       "      <td>-0.014037</td>\n",
       "      <td>0.019505</td>\n",
       "    </tr>\n",
       "    <tr>\n",
       "      <th>MM_RUPT</th>\n",
       "      <td>0.009357</td>\n",
       "      <td>0.532463</td>\n",
       "      <td>0.370507</td>\n",
       "      <td>1.000000</td>\n",
       "      <td>0.828404</td>\n",
       "      <td>0.662453</td>\n",
       "      <td>-0.012090</td>\n",
       "      <td>0.061401</td>\n",
       "    </tr>\n",
       "    <tr>\n",
       "      <th>MM_UHYST</th>\n",
       "      <td>0.009198</td>\n",
       "      <td>0.575229</td>\n",
       "      <td>0.365361</td>\n",
       "      <td>0.828404</td>\n",
       "      <td>1.000000</td>\n",
       "      <td>0.706907</td>\n",
       "      <td>-0.012842</td>\n",
       "      <td>0.063089</td>\n",
       "    </tr>\n",
       "    <tr>\n",
       "      <th>MM_AICU</th>\n",
       "      <td>0.006223</td>\n",
       "      <td>0.506880</td>\n",
       "      <td>0.292814</td>\n",
       "      <td>0.662453</td>\n",
       "      <td>0.706907</td>\n",
       "      <td>1.000000</td>\n",
       "      <td>-0.012076</td>\n",
       "      <td>0.082772</td>\n",
       "    </tr>\n",
       "    <tr>\n",
       "      <th>NO_MMORB</th>\n",
       "      <td>-0.012052</td>\n",
       "      <td>-0.011218</td>\n",
       "      <td>-0.014037</td>\n",
       "      <td>-0.012090</td>\n",
       "      <td>-0.012842</td>\n",
       "      <td>-0.012076</td>\n",
       "      <td>1.000000</td>\n",
       "      <td>-0.002370</td>\n",
       "    </tr>\n",
       "    <tr>\n",
       "      <th>AB_NICU</th>\n",
       "      <td>0.015789</td>\n",
       "      <td>0.060041</td>\n",
       "      <td>0.019505</td>\n",
       "      <td>0.061401</td>\n",
       "      <td>0.063089</td>\n",
       "      <td>0.082772</td>\n",
       "      <td>-0.002370</td>\n",
       "      <td>1.000000</td>\n",
       "    </tr>\n",
       "  </tbody>\n",
       "</table>\n",
       "</div>"
      ],
      "text/plain": [
       "            DOB_YY    MM_MTR   MM_PLAC   MM_RUPT  MM_UHYST   MM_AICU  \\\n",
       "DOB_YY    1.000000  0.011940  0.002435  0.009357  0.009198  0.006223   \n",
       "MM_MTR    0.011940  1.000000  0.240428  0.532463  0.575229  0.506880   \n",
       "MM_PLAC   0.002435  0.240428  1.000000  0.370507  0.365361  0.292814   \n",
       "MM_RUPT   0.009357  0.532463  0.370507  1.000000  0.828404  0.662453   \n",
       "MM_UHYST  0.009198  0.575229  0.365361  0.828404  1.000000  0.706907   \n",
       "MM_AICU   0.006223  0.506880  0.292814  0.662453  0.706907  1.000000   \n",
       "NO_MMORB -0.012052 -0.011218 -0.014037 -0.012090 -0.012842 -0.012076   \n",
       "AB_NICU   0.015789  0.060041  0.019505  0.061401  0.063089  0.082772   \n",
       "\n",
       "          NO_MMORB   AB_NICU  \n",
       "DOB_YY   -0.012052  0.015789  \n",
       "MM_MTR   -0.011218  0.060041  \n",
       "MM_PLAC  -0.014037  0.019505  \n",
       "MM_RUPT  -0.012090  0.061401  \n",
       "MM_UHYST -0.012842  0.063089  \n",
       "MM_AICU  -0.012076  0.082772  \n",
       "NO_MMORB  1.000000 -0.002370  \n",
       "AB_NICU  -0.002370  1.000000  "
      ]
     },
     "execution_count": 32,
     "metadata": {},
     "output_type": "execute_result"
    }
   ],
   "source": [
    "df.corr()"
   ]
  }
 ],
 "metadata": {
  "kernelspec": {
   "display_name": "Python 3",
   "language": "python",
   "name": "python3"
  },
  "language_info": {
   "codemirror_mode": {
    "name": "ipython",
    "version": 3
   },
   "file_extension": ".py",
   "mimetype": "text/x-python",
   "name": "python",
   "nbconvert_exporter": "python",
   "pygments_lexer": "ipython3",
   "version": "3.7.3"
  }
 },
 "nbformat": 4,
 "nbformat_minor": 2
}
